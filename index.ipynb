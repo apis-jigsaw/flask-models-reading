{
 "cells": [
  {
   "cell_type": "markdown",
   "metadata": {},
   "source": [
    "# Connecting our Models"
   ]
  },
  {
   "cell_type": "markdown",
   "metadata": {},
   "source": [
    "### Introduction"
   ]
  },
  {
   "cell_type": "markdown",
   "metadata": {},
   "source": [
    "In this lesson, we'll see how we can use our objects to return a list of object instances instead of database records.  Let's get started."
   ]
  },
  {
   "cell_type": "markdown",
   "metadata": {},
   "source": [
    "### Using an Object"
   ]
  },
  {
   "cell_type": "markdown",
   "metadata": {},
   "source": [
    "Now so far, we have been successful at connecting a request to our API to a request to our database.  And we did so with code like the following:"
   ]
  },
  {
   "cell_type": "markdown",
   "metadata": {},
   "source": [
    "```python\n",
    "# application.py\n",
    "import sqlite3\n",
    "from flask import Flask, jsonify\n",
    "\n",
    "app = Flask(__name__)\n",
    "\n",
    "@app.route('/nhl/players/')\n",
    "def show_players():\n",
    "    conn = sqlite3.connect('nhl.db')\n",
    "    cursor = conn.cursor()\n",
    "    cursor.execute('select * from players;')\n",
    "    players = cursor.fetchall()\n",
    "    return jsonify(players)\n",
    "\n",
    "app.run(debug = True)\n",
    "```"
   ]
  },
  {
   "cell_type": "markdown",
   "metadata": {},
   "source": [
    "Now when we make a request to the `/nhl/players` url, each player is represented as a list.\n",
    "\n",
    "<img src=\"./nhl_players_json.png\" width=\"40%\">"
   ]
  },
  {
   "cell_type": "markdown",
   "metadata": {},
   "source": [
    "It would be better if our players were represented as dictionaries.  "
   ]
  },
  {
   "cell_type": "markdown",
   "metadata": {},
   "source": [
    "Perhaps one way that we can get those list of dictionaries is to create a list of *player objects* with our return values from the database.  \n",
    "\n",
    "So this means that we would like to retrieve a record from the database, and for each record pass the through the data to create a corresponding instance.\n",
    "\n",
    "Let's see how we can do this."
   ]
  },
  {
   "cell_type": "markdown",
   "metadata": {},
   "source": [
    "### Connecting to our database"
   ]
  },
  {
   "cell_type": "code",
   "execution_count": 1,
   "metadata": {},
   "outputs": [
    {
     "data": {
      "text/html": [
       "<div>\n",
       "<style scoped>\n",
       "    .dataframe tbody tr th:only-of-type {\n",
       "        vertical-align: middle;\n",
       "    }\n",
       "\n",
       "    .dataframe tbody tr th {\n",
       "        vertical-align: top;\n",
       "    }\n",
       "\n",
       "    .dataframe thead th {\n",
       "        text-align: right;\n",
       "    }\n",
       "</style>\n",
       "<table border=\"1\" class=\"dataframe\">\n",
       "  <thead>\n",
       "    <tr style=\"text-align: right;\">\n",
       "      <th></th>\n",
       "      <th>name</th>\n",
       "      <th>age</th>\n",
       "      <th>ht</th>\n",
       "      <th>wt</th>\n",
       "      <th>shot</th>\n",
       "      <th>birth_place</th>\n",
       "      <th>birthdate</th>\n",
       "      <th>number</th>\n",
       "    </tr>\n",
       "    <tr>\n",
       "      <th>id</th>\n",
       "      <th></th>\n",
       "      <th></th>\n",
       "      <th></th>\n",
       "      <th></th>\n",
       "      <th></th>\n",
       "      <th></th>\n",
       "      <th></th>\n",
       "      <th></th>\n",
       "    </tr>\n",
       "  </thead>\n",
       "  <tbody>\n",
       "    <tr>\n",
       "      <th>0</th>\n",
       "      <td>Connor Bunnaman</td>\n",
       "      <td>21</td>\n",
       "      <td>6' 1\"</td>\n",
       "      <td>207 lbs</td>\n",
       "      <td>L</td>\n",
       "      <td>Guelph, ON</td>\n",
       "      <td>04/16/98</td>\n",
       "      <td>82</td>\n",
       "    </tr>\n",
       "    <tr>\n",
       "      <th>1</th>\n",
       "      <td>Sean Couturier</td>\n",
       "      <td>27</td>\n",
       "      <td>6' 3\"</td>\n",
       "      <td>211 lbs</td>\n",
       "      <td>L</td>\n",
       "      <td>Phoenix, AZ</td>\n",
       "      <td>12/07/92</td>\n",
       "      <td>14</td>\n",
       "    </tr>\n",
       "  </tbody>\n",
       "</table>\n",
       "</div>"
      ],
      "text/plain": [
       "               name  age     ht       wt shot  birth_place birthdate  number\n",
       "id                                                                          \n",
       "0   Connor Bunnaman   21  6' 1\"  207 lbs    L   Guelph, ON  04/16/98      82\n",
       "1    Sean Couturier   27  6' 3\"  211 lbs    L  Phoenix, AZ  12/07/92      14"
      ]
     },
     "execution_count": 1,
     "metadata": {},
     "output_type": "execute_result"
    }
   ],
   "source": [
    "import pandas as pd\n",
    "\n",
    "df = pd.read_csv('https://raw.githubusercontent.com/apis-jigsaw/flask-models-reading/main/nhl_players.csv', index_col = 0)\n",
    "\n",
    "df[:2]"
   ]
  },
  {
   "cell_type": "code",
   "execution_count": 10,
   "metadata": {},
   "outputs": [],
   "source": [
    "df.to_sql('players', conn, if_exists = 'replace')"
   ]
  },
  {
   "cell_type": "code",
   "execution_count": 11,
   "metadata": {},
   "outputs": [],
   "source": [
    "import sqlite3\n",
    "conn = sqlite3.connect('nhl.db')\n",
    "cursor = conn.cursor()\n",
    "cursor.execute('select * from players limit 1;')\n",
    "player_record = cursor.fetchone()"
   ]
  },
  {
   "cell_type": "code",
   "execution_count": 12,
   "metadata": {},
   "outputs": [
    {
     "data": {
      "text/plain": [
       "(0,\n",
       " 'Connor Bunnaman',\n",
       " 21,\n",
       " '6\\' 1\"',\n",
       " '207 lbs',\n",
       " 'L',\n",
       " 'Guelph, ON',\n",
       " '04/16/98',\n",
       " 82)"
      ]
     },
     "execution_count": 12,
     "metadata": {},
     "output_type": "execute_result"
    }
   ],
   "source": [
    "player_record"
   ]
  },
  {
   "cell_type": "markdown",
   "metadata": {},
   "source": [
    "Then, once we have this data, we can create a Player object with this data,  with something like the following."
   ]
  },
  {
   "cell_type": "code",
   "execution_count": 13,
   "metadata": {},
   "outputs": [],
   "source": [
    "class Player:\n",
    "    def __init__(self, values):\n",
    "        self.values = values"
   ]
  },
  {
   "cell_type": "code",
   "execution_count": 15,
   "metadata": {},
   "outputs": [
    {
     "data": {
      "text/plain": [
       "(0,\n",
       " 'Connor Bunnaman',\n",
       " 21,\n",
       " '6\\' 1\"',\n",
       " '207 lbs',\n",
       " 'L',\n",
       " 'Guelph, ON',\n",
       " '04/16/98',\n",
       " 82)"
      ]
     },
     "execution_count": 15,
     "metadata": {},
     "output_type": "execute_result"
    }
   ],
   "source": [
    "player = Player(player_record)\n",
    "player.values"
   ]
  },
  {
   "cell_type": "markdown",
   "metadata": {},
   "source": [
    "Now of course, what we would really like is to set each value to a corresponding attribute.  We can accomplish that, with something like the following:"
   ]
  },
  {
   "cell_type": "code",
   "execution_count": 20,
   "metadata": {},
   "outputs": [],
   "source": [
    "class Player:\n",
    "\n",
    "    columns = ['id', 'name', 'age', 'height', 'weight', \n",
    "               'shot', 'birth_place', 'birthdate', 'number']\n",
    "    \n",
    "    def __init__(self, values):\n",
    "        self.__dict__ = dict(zip(self.columns, values))"
   ]
  },
  {
   "cell_type": "markdown",
   "metadata": {},
   "source": [
    "Now let's see what happens when we pass in our values."
   ]
  },
  {
   "cell_type": "code",
   "execution_count": 18,
   "metadata": {},
   "outputs": [
    {
     "data": {
      "text/plain": [
       "{'id': 0,\n",
       " 'name': 'Connor Bunnaman',\n",
       " 'age': 21,\n",
       " 'height': '6\\' 1\"',\n",
       " 'weight': '207 lbs',\n",
       " 'shot': 'L',\n",
       " 'birth_place': 'Guelph, ON',\n",
       " 'birthdate': '04/16/98',\n",
       " 'number': 82}"
      ]
     },
     "execution_count": 18,
     "metadata": {},
     "output_type": "execute_result"
    }
   ],
   "source": [
    "player = Player(player_record)\n",
    "player.__dict__"
   ]
  },
  {
   "cell_type": "markdown",
   "metadata": {},
   "source": [
    "So we can see that this created a player with the proper attributes.  Let's take another look at how this worked."
   ]
  },
  {
   "cell_type": "code",
   "execution_count": 19,
   "metadata": {},
   "outputs": [],
   "source": [
    "class Player:\n",
    "\n",
    "    columns = ['id', 'name', 'age', 'height', 'weight', \n",
    "               'shot', 'birth_place', 'birthdate', 'number']\n",
    "    \n",
    "    def __init__(self, values):\n",
    "        self.__dict__ = dict(zip(self.columns, values))"
   ]
  },
  {
   "cell_type": "markdown",
   "metadata": {},
   "source": [
    "If we focus on the `__init__` function, self.columns is the list of columns, which we then align with the list of data that we retrieve from the database.  We then convert that data into a dictionary, and assign it as attributes of the object with the `__dict__` property."
   ]
  },
  {
   "cell_type": "markdown",
   "metadata": {},
   "source": [
    "### A last step"
   ]
  },
  {
   "cell_type": "markdown",
   "metadata": {},
   "source": [
    "As a last step, remember that we have written a function in our orm to perform the proper `SELECT *` statement.  This is our `find_all` function.  Let's try using that here."
   ]
  },
  {
   "cell_type": "markdown",
   "metadata": {},
   "source": [
    "```python\n",
    "@app.route('/nhl/players/')\n",
    "def show_players():\n",
    "    conn = sqlite3.connect('nhl.db')\n",
    "    cursor = conn.cursor()\n",
    "    player_records = cursor.execute('select * from players;')\n",
    "    players = [Player(player) for player_records in player_records]\n",
    "    player_dicts = [player.__dict__ for player in players]\n",
    "    return jsonify(player_dicts)\n",
    "```"
   ]
  },
  {
   "cell_type": "markdown",
   "metadata": {},
   "source": [
    "So we can see that we are able to retrieve a list of player instances from the database.  Then we turned these records into Player instances.  And finally, we needed to convert those instances into dictionaries with the `player.__dict__` attribute, so we could ultimately send the data back as json."
   ]
  },
  {
   "cell_type": "markdown",
   "metadata": {},
   "source": [
    "### Summary"
   ]
  },
  {
   "cell_type": "markdown",
   "metadata": {},
   "source": [
    "In this lesson, we saw how we can take data from a database and use it to create corresponding object instances.  We then needed to convert the data back into dictionaries to ultimately send back the data as json.\n",
    "\n",
    "We spent sometime understanding how we could convert our players into instances.  Let's take another look at the code.\n",
    "\n",
    "```python\n",
    "class Player:\n",
    "\n",
    "    columns = ['id', 'name', 'age', 'height', 'weight', \n",
    "               'shot', 'birth_place', 'birthdate', 'number']\n",
    "    \n",
    "    def __init__(self, values):\n",
    "        self.__dict__ = dict(zip(self.columns, values))\n",
    "```\n",
    "\n",
    "Above we pair together the tuple of values with a the corresponding columns.  Then we turn that paired data into a dictionary and assign the instance's attributes with the `__dict__` property."
   ]
  },
  {
   "cell_type": "code",
   "execution_count": null,
   "metadata": {},
   "outputs": [],
   "source": []
  }
 ],
 "metadata": {
  "kernelspec": {
   "display_name": "Python 3 (ipykernel)",
   "language": "python",
   "name": "python3"
  },
  "language_info": {
   "codemirror_mode": {
    "name": "ipython",
    "version": 3
   },
   "file_extension": ".py",
   "mimetype": "text/x-python",
   "name": "python",
   "nbconvert_exporter": "python",
   "pygments_lexer": "ipython3",
   "version": "3.9.12"
  }
 },
 "nbformat": 4,
 "nbformat_minor": 4
}
