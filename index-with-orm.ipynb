{
 "cells": [
  {
   "cell_type": "markdown",
   "metadata": {},
   "source": [
    "# Connecting our Models"
   ]
  },
  {
   "cell_type": "markdown",
   "metadata": {},
   "source": [
    "### Introduction"
   ]
  },
  {
   "cell_type": "markdown",
   "metadata": {},
   "source": [
    "In this lesson, we'll see how we can use our objects and our orm functions to perform some of the SQL calls for us, and allow us to work with a list of object instances instead of database records.  Let's get started."
   ]
  },
  {
   "cell_type": "markdown",
   "metadata": {},
   "source": [
    "### Using an Object"
   ]
  },
  {
   "cell_type": "markdown",
   "metadata": {},
   "source": [
    "Now so far, we have been successful at connecting a request to our API to a request to our database.  And we did so with code like the following:"
   ]
  },
  {
   "cell_type": "markdown",
   "metadata": {},
   "source": [
    "```python\n",
    "# application.py\n",
    "import sqlite3\n",
    "from flask import Flask, jsonify\n",
    "\n",
    "app = Flask(__name__)\n",
    "\n",
    "@app.route('/nhl/players/')\n",
    "def show_players():\n",
    "    conn = sqlite3.connect('nhl.db')\n",
    "    cursor = conn.cursor()\n",
    "    cursor.execute('select * from players;')\n",
    "    players = cursor.fetchall()\n",
    "    return jsonify(players)\n",
    "\n",
    "app.run(debug = True)\n",
    "```"
   ]
  },
  {
   "cell_type": "markdown",
   "metadata": {},
   "source": [
    "Now when we make a request to the `/nhl/players` url, each player is represented as a list.\n",
    "\n",
    "<img src=\"./nhl_players_json.png\" width=\"40%\">"
   ]
  },
  {
   "cell_type": "markdown",
   "metadata": {},
   "source": [
    "It would be better if our players were represented as dictionaries.  "
   ]
  },
  {
   "cell_type": "markdown",
   "metadata": {},
   "source": [
    "Perhaps one way that we can get those list of dictionaries is to create a list of *player objects* with our return values from the database.  Remember, this is essentially what our `build_from_records` function did for us: initialized instances with records from our database.  Ok, let's see how we can do this."
   ]
  },
  {
   "cell_type": "markdown",
   "metadata": {},
   "source": [
    "> We can write our Player class in a `player.py` file."
   ]
  },
  {
   "cell_type": "code",
   "execution_count": 12,
   "metadata": {},
   "outputs": [],
   "source": [
    "class Player:\n",
    "    __table__ = 'players'\n",
    "    columns = ['id', 'name', 'age', 'height', 'weight', \n",
    "               'shot', 'birth_place', 'birthdate', 'number']\n",
    "    \n",
    "    def __init__(self, **kwargs):\n",
    "        for k, v in kwargs.items():\n",
    "            setattr(self, k, v)"
   ]
  },
  {
   "cell_type": "code",
   "execution_count": 13,
   "metadata": {},
   "outputs": [
    {
     "data": {
      "text/plain": [
       "<__main__.Player at 0x116252d30>"
      ]
     },
     "execution_count": 13,
     "metadata": {},
     "output_type": "execute_result"
    }
   ],
   "source": [
    "Player(name = 'claude giroux')"
   ]
  },
  {
   "cell_type": "markdown",
   "metadata": {},
   "source": [
    "Then we can use `build_from_records` to convert our list of player records from the database into a list of player objects."
   ]
  },
  {
   "cell_type": "markdown",
   "metadata": {},
   "source": [
    "```python\n",
    "@app.route('/nhl/players/')\n",
    "def show_players():\n",
    "    conn = sqlite3.connect('nhl.db')\n",
    "    cursor = conn.cursor()\n",
    "    cursor.execute('select * from players;')\n",
    "    player_records = cursor.fetchall()\n",
    "    players = build_from_records(Player, player_records)\n",
    "    player_dicts = [player.__dict__ for player in players]\n",
    "    return jsonify(player_dicts)\n",
    "```"
   ]
  },
  {
   "cell_type": "markdown",
   "metadata": {},
   "source": [
    "That's really it.  Our request to `/nhl/players` triggers a call to `SELECT * FROM players;`.  From this, we get a list of players `[[1, 'sean coutourier'], [2, 'kevin hayes']]`, and we pass this into our `build_from_players` function. "
   ]
  },
  {
   "cell_type": "markdown",
   "metadata": {},
   "source": [
    "### A last step"
   ]
  },
  {
   "cell_type": "markdown",
   "metadata": {},
   "source": [
    "As a last step, remember that we have written a function in our orm to perform the proper `SELECT *` statement.  This is our `find_all` function.  Let's try using that here."
   ]
  },
  {
   "cell_type": "markdown",
   "metadata": {},
   "source": [
    "```python\n",
    "@app.route('/nhl/players/')\n",
    "def show_players():\n",
    "    conn = sqlite3.connect('nhl.db')\n",
    "    cursor = conn.cursor()\n",
    "    players = find_all(Player,cursor)\n",
    "    player_dicts = [player.__dict__ for player in players]\n",
    "    return jsonify(player_dicts)\n",
    "```"
   ]
  },
  {
   "cell_type": "markdown",
   "metadata": {},
   "source": [
    "So we can see that we are able to use our find_all method to retrieve a list of player instances from the database.  Then we convert these instances to json and return them as our response."
   ]
  },
  {
   "cell_type": "markdown",
   "metadata": {},
   "source": [
    "### Summary"
   ]
  },
  {
   "cell_type": "markdown",
   "metadata": {},
   "source": [
    "In this lesson, we moved further through different layers of abstraction to refactor our code.  We started with our code that returned each player represented as a list from our database.  Then we declared the class Player so that we turn our player records into player instances with the `build_from_records` function.  Finally, we used our `find_all` function from the orm that we previously wrote to make the SQL call for us."
   ]
  }
 ],
 "metadata": {
  "kernelspec": {
   "display_name": "Python 3 (ipykernel)",
   "language": "python",
   "name": "python3"
  },
  "language_info": {
   "codemirror_mode": {
    "name": "ipython",
    "version": 3
   },
   "file_extension": ".py",
   "mimetype": "text/x-python",
   "name": "python",
   "nbconvert_exporter": "python",
   "pygments_lexer": "ipython3",
   "version": "3.9.7"
  }
 },
 "nbformat": 4,
 "nbformat_minor": 4
}
